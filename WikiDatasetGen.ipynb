{
 "cells": [
  {
   "cell_type": "code",
   "execution_count": 9,
   "metadata": {
    "collapsed": true
   },
   "outputs": [],
   "source": [
    "import os \n",
    "import numpy as np\n",
    "import pandas as pd\n",
    "import ast"
   ]
  },
  {
   "cell_type": "code",
   "execution_count": 10,
   "metadata": {},
   "outputs": [],
   "source": [
    "wiki_files = os.listdir('./wiki_data/data')\n",
    "article_titles = [title[:-4] for title in wiki_files]"
   ]
  },
  {
   "cell_type": "code",
   "execution_count": 11,
   "metadata": {
    "collapsed": true
   },
   "outputs": [],
   "source": [
    "tokenized_wiki_documents = []\n",
    "tokenized_wiki_summaries = []\n",
    "wiki_documents = []\n",
    "wiki_summaries = []\n",
    "titles = []"
   ]
  },
  {
   "cell_type": "code",
   "execution_count": 12,
   "metadata": {
    "collapsed": true
   },
   "outputs": [],
   "source": [
    "def parse_summary(article_lines):\n",
    "    index = -1\n",
    "    summary_indices = []\n",
    "    for i in range(len(article_lines)):\n",
    "        if article_lines[i] == 'Contents\\n':\n",
    "            index = i\n",
    "            break\n",
    "            \n",
    "    summary = []\n",
    "    \n",
    "    while(len(article_lines[index].split(\" \"))) < 8 and index >= 0:\n",
    "        index -= 1\n",
    "    \n",
    "    summary_indices.append(index)\n",
    "    \n",
    "    while len(article_lines[index].split(\" \")) > 8 and index >= 0:\n",
    "        summary.insert(0, article_lines[index].strip())\n",
    "        index -= 1\n",
    "        \n",
    "    summary_indices.append(index)\n",
    "        \n",
    "    return summary, summary_indices[::-1]"
   ]
  },
  {
   "cell_type": "code",
   "execution_count": 13,
   "metadata": {},
   "outputs": [],
   "source": [
    "for file in wiki_files:\n",
    "    lines = open('./wiki_data/data/' + file).readlines()\n",
    "    summary, summary_indices = parse_summary(lines)\n",
    "    lower_bound, upper_bound = summary_indices\n",
    "    \n",
    "    if len(summary) > 0:\n",
    "        titles.append(file)\n",
    "        \n",
    "        tokenized_wiki_summaries.append(summary)\n",
    "        wiki_summaries.append('. '.join(summary))\n",
    "\n",
    "        cleaned_lines = [lines[i].strip() for i in range(len(lines)) if lines[i].strip() != '' and (i < lower_bound or i > upper_bound)]\n",
    "        tokenized_wiki_documents.append(cleaned_lines)\n",
    "        wiki_documents.append('. '.join(cleaned_lines))"
   ]
  },
  {
   "cell_type": "code",
   "execution_count": null,
   "metadata": {
    "collapsed": true
   },
   "outputs": [],
   "source": [
    "df = pd.DataFrame(columns=['Titles', 'Summaries', 'Tokenized Summaries'])\n",
    "df['Titles'] = pd.Series(titles)\n",
    "df['Summaries'] = pd.Series(wiki_summaries)\n",
    "df['Tokenized Summaries'] = pd.Series(tokenized_wiki_summaries)\n",
    "df.to_csv('wiki_summaries.csv')"
   ]
  },
  {
   "cell_type": "code",
   "execution_count": null,
   "metadata": {
    "collapsed": true
   },
   "outputs": [],
   "source": [
    "df_2 = pd.DataFrame(columns=['Titles', 'Documents', 'Tokenized Documents'])\n",
    "df_2['Titles'] = pd.Series(titles)\n",
    "df_2['Documents'] = pd.Series(wiki_documents)\n",
    "df_2['Tokenized Documents'] = pd.Series(tokenized_wiki_documents)\n",
    "df_2.to_csv('wiki_documents.csv')"
   ]
  },
  {
   "cell_type": "code",
   "execution_count": null,
   "metadata": {
    "collapsed": true
   },
   "outputs": [],
   "source": [
    "df_3 = pd.DataFrame(columns=['Titles', 'Summaries', 'Documents'])\n",
    "df_3['Titles'] = pd.Series(titles)\n",
    "df_3['Summaries'] = pd.Series(wiki_summaries)\n",
    "df_3['Documents'] = pd.Series(wiki_documents)\n",
    "df_3.to_csv('wiki_train.csv')"
   ]
  },
  {
   "cell_type": "code",
   "execution_count": null,
   "metadata": {
    "collapsed": true
   },
   "outputs": [],
   "source": []
  }
 ],
 "metadata": {
  "kernelspec": {
   "display_name": "Python 3",
   "language": "python",
   "name": "python3"
  },
  "language_info": {
   "codemirror_mode": {
    "name": "ipython",
    "version": 3
   },
   "file_extension": ".py",
   "mimetype": "text/x-python",
   "name": "python",
   "nbconvert_exporter": "python",
   "pygments_lexer": "ipython3",
   "version": "3.6.2"
  }
 },
 "nbformat": 4,
 "nbformat_minor": 2
}
